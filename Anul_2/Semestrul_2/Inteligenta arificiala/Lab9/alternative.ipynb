{
 "cells": [
  {
   "cell_type": "code",
   "execution_count": 1,
   "id": "bae5e874-ca1d-46a4-a081-b6947f944502",
   "metadata": {},
   "outputs": [],
   "source": [
    "import csv\n",
    "import os\n",
    "import pandas as pd"
   ]
  },
  {
   "cell_type": "code",
   "execution_count": 2,
   "id": "f6353386-a2be-4e49-8e6f-96217bb7e012",
   "metadata": {},
   "outputs": [
    {
     "name": "stdout",
     "output_type": "stream",
     "text": [
      "['The rooms are extremely small, practically only a bed.', 'Room safe did not work.']\n",
      "['positive', 'negative']\n"
     ]
    }
   ],
   "source": [
    "# Pasul 1 - incarcare date\n",
    "\n",
    "crtDir =  os.getcwd()\n",
    "fileName = os.path.join(crtDir, 'data', 'reviews_mixed.csv')\n",
    "\n",
    "data = []\n",
    "with open(fileName) as csv_file:\n",
    "    csv_reader = csv.reader(csv_file, delimiter=',')\n",
    "    line_count = 0\n",
    "    for row in csv_reader:\n",
    "        if line_count == 0:\n",
    "            dataNames = row\n",
    "        else:\n",
    "            data.append(row)\n",
    "        line_count += 1\n",
    "\n",
    "text = [data[i][0] for i in range(len(data))][:100]\n",
    "sentiment = [data[i][1] for i in range(len(data))][:100]\n",
    "labels = list(set(sentiment))\n",
    "\n",
    "print(text[:2])\n",
    "print(labels[:2])"
   ]
  },
  {
   "cell_type": "code",
   "execution_count": 3,
   "id": "b6c95dd2-a788-4183-9230-f8e6a0c4cec6",
   "metadata": {},
   "outputs": [
    {
     "name": "stdout",
     "output_type": "stream",
     "text": [
      " - train\n",
      "['Just to give you an idea: the shutters of the windows were not working, did not go neither up or down - just hanging down only one side and the other up....', 'and hip and CLEAN!', \"Toilet paper wasn't replaced everyday!\"]\n",
      "['negative', 'positive', 'negative']\n",
      " - test\n",
      "['The bed is very comfortable.', 'Very spacious rooms, quiet and very comfortable.', 'Corridors filthy\\nRoom filthy\\nElectrical cables in room not safe\\nWhole building smelly\\nShower repulsive']\n",
      "['positive', 'positive', 'negative']\n"
     ]
    }
   ],
   "source": [
    "# Pasul 2 - impartire date (antrenament si test)\n",
    "import numpy as np\n",
    "\n",
    "np.random.seed(5)\n",
    "indexes = [i for i in range(len(text))]\n",
    "trainSample = np.random.choice(indexes, int(0.8 * len(text)), replace=False)\n",
    "testSample = [i for i in indexes if not i in trainSample]\n",
    "\n",
    "trainInputs = [text[i] for i in trainSample]\n",
    "trainOutputs = [sentiment[i] for i in trainSample]\n",
    "testInputs = [text[i] for i in testSample]\n",
    "testOutputs = [sentiment[i] for i in testSample]\n",
    "\n",
    "print(' - train')\n",
    "print(trainInputs[:3])\n",
    "print(trainOutputs[:3])\n",
    "print(' - test')\n",
    "print(testInputs[:3])\n",
    "print(testOutputs[:3])"
   ]
  },
  {
   "cell_type": "code",
   "execution_count": 5,
   "id": "dabbf3e6-2b76-4120-89dd-faa875f17d7f",
   "metadata": {},
   "outputs": [
    {
     "name": "stdout",
     "output_type": "stream",
     "text": [
      "[('supporting', 0.6251285076141357), ('suport', 0.6071150302886963), ('suppport', 0.6053199768066406), ('Support', 0.6044272780418396), ('supported', 0.6009396314620972), ('backing', 0.6007589101791382), ('supports', 0.5269277691841125), ('assistance', 0.5207138061523438), ('sup_port', 0.5192490220069885), ('supportive', 0.5110024809837341)]\n",
      "vec for house:  [ 1.57226562e-01 -7.08007812e-02  5.39550781e-02 -1.89208984e-02\n",
      "  9.17968750e-02  2.55126953e-02  7.37304688e-02 -5.68847656e-02\n",
      "  1.79687500e-01  9.27734375e-02  9.03320312e-02 -4.12109375e-01\n",
      " -8.30078125e-02 -1.45507812e-01 -2.37304688e-01 -3.68652344e-02\n",
      "  8.74023438e-02 -2.77099609e-02  1.13677979e-03  8.30078125e-02\n",
      "  3.57421875e-01 -2.61718750e-01  7.47070312e-02 -8.10546875e-02\n",
      " -2.35595703e-02 -1.61132812e-01 -4.78515625e-02  1.85546875e-01\n",
      " -3.97949219e-02 -1.58203125e-01 -4.37011719e-02 -1.11328125e-01\n",
      " -1.05957031e-01  9.86328125e-02 -8.34960938e-02 -1.27929688e-01\n",
      " -1.39648438e-01 -1.86523438e-01 -5.71289062e-02 -1.17675781e-01\n",
      " -1.32812500e-01  1.55639648e-02  1.34765625e-01  8.39843750e-02\n",
      " -9.03320312e-02 -4.12597656e-02 -2.51953125e-01 -2.27539062e-01\n",
      " -6.64062500e-02 -7.66601562e-02  5.15136719e-02  5.90820312e-02\n",
      "  3.49609375e-01 -1.13769531e-01 -2.57568359e-02 -1.98242188e-01\n",
      "  4.44335938e-02  1.09863281e-01  1.04003906e-01 -1.75781250e-01\n",
      "  1.22558594e-01  7.81250000e-02  6.20117188e-02  6.49414062e-02\n",
      " -1.73828125e-01 -1.11694336e-02  1.88476562e-01  3.34472656e-02\n",
      " -4.29687500e-02 -4.71191406e-02  2.91015625e-01  4.19921875e-02\n",
      "  1.59179688e-01  1.22558594e-01 -2.55859375e-01  2.44140625e-01\n",
      "  1.54296875e-01 -3.46679688e-02  1.24023438e-01 -1.32812500e-01\n",
      "  8.44726562e-02  3.71093750e-02 -1.05468750e-01  9.81445312e-02\n",
      " -8.23974609e-03  5.34667969e-02 -1.96838379e-03  9.03320312e-02\n",
      "  1.30859375e-01 -1.57470703e-02 -2.40478516e-02 -3.29589844e-02\n",
      " -5.63964844e-02 -3.12500000e-01 -1.19140625e-01  4.41894531e-02\n",
      " -1.82617188e-01 -2.20703125e-01  8.39843750e-02 -2.15820312e-01\n",
      " -1.60156250e-01 -2.01171875e-01  1.63085938e-01 -4.57763672e-05\n",
      "  4.24804688e-02 -1.37695312e-01 -2.62451172e-02  1.53320312e-01\n",
      " -1.07421875e-01 -1.34765625e-01 -3.73840332e-03 -1.51977539e-02\n",
      " -7.27539062e-02  3.22265625e-02  1.89453125e-01 -8.00781250e-02\n",
      "  1.45507812e-01 -9.66796875e-02 -9.27734375e-02  8.91113281e-03\n",
      " -4.27246094e-02 -9.76562500e-02  3.29589844e-02 -7.95898438e-02\n",
      " -6.25000000e-02  3.39355469e-02  1.05590820e-02 -1.28906250e-01\n",
      "  1.09863281e-01  1.89453125e-01  1.52343750e-01 -1.47460938e-01\n",
      " -3.86047363e-03  1.75781250e-01 -4.58984375e-02 -1.02539062e-01\n",
      "  6.34765625e-02 -9.86328125e-02  1.87500000e-01  3.97949219e-02\n",
      " -2.65625000e-01 -1.24023438e-01 -1.35742188e-01  7.93457031e-03\n",
      "  6.59179688e-02  8.11767578e-03 -3.24707031e-02 -1.03759766e-02\n",
      " -1.90429688e-02 -8.20312500e-02  2.06054688e-01  1.40625000e-01\n",
      "  1.93359375e-01  2.91015625e-01 -9.17968750e-02 -1.40625000e-01\n",
      " -1.75781250e-01 -1.36718750e-01  2.51464844e-02 -5.83496094e-02\n",
      " -1.84570312e-01  3.10546875e-01  7.17773438e-02 -1.01074219e-01\n",
      "  1.08886719e-01 -2.23388672e-02  1.50390625e-01 -7.03125000e-02\n",
      "  1.24023438e-01  2.21679688e-01 -1.97265625e-01 -6.05468750e-02\n",
      " -4.30297852e-03 -1.69921875e-01 -1.45507812e-01 -2.17773438e-01\n",
      "  2.47070312e-01  6.64062500e-02 -8.05664062e-02  3.57421875e-01\n",
      " -8.20312500e-02 -7.87353516e-03  1.08886719e-01 -5.32226562e-02\n",
      "  3.00781250e-01 -2.37304688e-01  1.61132812e-01  1.59179688e-01\n",
      "  1.69921875e-01 -9.52148438e-02  5.20019531e-02 -6.22558594e-02\n",
      " -8.85009766e-03  4.68750000e-02 -2.88085938e-02  1.25000000e-01\n",
      "  3.49121094e-02  4.61425781e-02  1.66015625e-02 -9.57031250e-02\n",
      " -1.48437500e-01 -1.64794922e-02 -2.22656250e-01 -2.51953125e-01\n",
      " -3.58886719e-02 -2.52685547e-02  8.39233398e-05  6.98242188e-02\n",
      "  2.53906250e-01 -3.29589844e-02  6.59179688e-02  6.28662109e-03\n",
      " -7.86132812e-02 -3.01513672e-02 -9.47265625e-02  1.25000000e-01\n",
      " -1.62109375e-01  2.53906250e-01 -3.30078125e-01  6.44531250e-02\n",
      " -9.09423828e-03  7.12890625e-02  3.99780273e-03 -4.41894531e-02\n",
      " -1.42822266e-02 -9.52148438e-03  1.17675781e-01  3.49609375e-01\n",
      " -2.90527344e-02  1.86767578e-02  3.46679688e-02  1.89208984e-02\n",
      " -1.26953125e-01  2.68554688e-02 -1.06933594e-01  1.20117188e-01\n",
      " -2.69775391e-02 -5.07812500e-02 -1.76757812e-01  3.95507812e-02\n",
      "  1.35742188e-01 -9.61914062e-02 -1.98242188e-01 -1.86767578e-02\n",
      " -2.47802734e-02 -5.32226562e-02  1.54296875e-01  5.95703125e-02\n",
      "  6.39648438e-02 -6.17675781e-02  3.36914062e-02  1.75781250e-01\n",
      "  6.59179688e-02  2.22656250e-01 -1.28906250e-01  4.61425781e-02\n",
      " -2.57812500e-01  6.78710938e-02  6.29882812e-02 -1.15722656e-01\n",
      " -2.13867188e-01 -2.53906250e-01  2.73437500e-02 -4.68750000e-02\n",
      "  1.38671875e-01  2.59765625e-01 -2.07031250e-01 -9.64355469e-03\n",
      " -5.22460938e-02 -7.20214844e-03  8.49609375e-02 -2.49023438e-02\n",
      "  1.94335938e-01 -7.37304688e-02  1.22070312e-01 -3.49121094e-02\n",
      "  1.41601562e-01 -1.38671875e-01  7.61718750e-02 -1.93359375e-01\n",
      "  1.64062500e-01 -2.78320312e-02 -1.45263672e-02  1.44531250e-01\n",
      "  1.75781250e-01 -1.70898438e-02  1.26953125e-01  3.39355469e-02\n",
      " -2.80761719e-02  1.82617188e-01 -2.94921875e-01  3.78417969e-02\n",
      " -1.63085938e-01  1.73828125e-01 -1.01074219e-01 -1.49414062e-01\n",
      " -4.17480469e-02  9.82666016e-03 -4.94384766e-03 -3.29589844e-02]\n"
     ]
    }
   ],
   "source": [
    "# Pas 3: embedded features extracted by a pre-train model (in fact, word2vec pretrained model)\n",
    "\n",
    "import gensim \n",
    "\n",
    "# Load Google's pre-trained Word2Vec \n",
    "crtDir =  os.getcwd()\n",
    "modelPath = os.path.join(crtDir, 'models', 'GoogleNews-vectors-negative300.bin')\n",
    "\n",
    "word2vecModel300 = gensim.models.KeyedVectors.load_word2vec_format(modelPath, binary=True) \n",
    "print(word2vecModel300.most_similar('support'))\n",
    "print(\"vec for house: \", word2vecModel300[\"house\"])"
   ]
  },
  {
   "cell_type": "code",
   "execution_count": 6,
   "id": "121d2b93-782e-4ae4-887e-32ebf1ef442b",
   "metadata": {},
   "outputs": [],
   "source": [
    "def featureComputation(model, data):\n",
    "    features = []\n",
    "    phrases = [ phrase.split() for phrase in data]\n",
    "    for phrase in phrases:\n",
    "        # compute the embeddings of all the words from a phrase (words of more than 2 characters) known by the model\n",
    "        # vectors = [model[word] for word in phrase if (len(word) > 2) and (word in model.vocab.keys())]\n",
    "        vectors = [model[word] for word in phrase if (len(word) > 2) and (word in model.index_to_key)]\n",
    "        if len(vectors) == 0:\n",
    "            result = [0.0] * model.vector_size\n",
    "        else:\n",
    "            result = np.sum(vectors, axis=0) / len(vectors)\n",
    "        features.append(result)\n",
    "    return features\n",
    "\n",
    "trainFeatures = featureComputation(word2vecModel300, trainInputs)\n",
    "testFeatures = featureComputation(word2vecModel300, testInputs)"
   ]
  },
  {
   "cell_type": "code",
   "execution_count": 7,
   "id": "f989dfee-3da9-4a64-b915-3c2bb58e5be9",
   "metadata": {},
   "outputs": [],
   "source": [
    "# Pasul 4 - antrenare model de invatare nesupervizata (clustering)\n",
    "\n",
    "# unsupervised classification ( = clustering) of data\n",
    "\n",
    "from sklearn.cluster import AgglomerativeClustering\n",
    "\n",
    "# unsupervisedClassifier = KMeans(n_clusters=2, random_state=0)\n",
    "# unsupervisedClassifier.fit(trainFeatures)\n",
    "\n",
    "# Perform Agglomerative Hierarchical Clustering\n",
    "clustering = AgglomerativeClustering(n_clusters=2, linkage='ward')\n",
    "cluster_labels = clustering.fit_predict(trainFeatures)"
   ]
  },
  {
   "cell_type": "code",
   "execution_count": 8,
   "id": "63a6bbea-7942-4997-bd2f-8cc030d18f77",
   "metadata": {},
   "outputs": [
    {
     "name": "stdout",
     "output_type": "stream",
     "text": [
      "The bed is very comfortable.  ->  positive\n",
      "Very spacious rooms, quiet and very comfortable.  ->  positive\n",
      "Corridors filthy\n",
      "Room filthy\n",
      "Electrical cables in room not safe\n",
      "Whole building smelly\n",
      "Shower repulsive  ->  positive\n",
      "walls seem to have no sound insulation  ->  positive\n",
      "The building was under renovation,  ->  positive\n",
      "no elevator might be a challenge for some people  ->  positive\n",
      "The bed was highly uncomfortable, although the engineer fixed it  ->  positive\n",
      "bed, smell.  ->  positive\n",
      "Detest the glass \"door\" if shower/tub .. with?  ->  positive\n",
      "this was expected, clean towels and room cleaned every day.  ->  positive\n",
      "More plug outlets with surge protectors.  ->  positive\n",
      "Room was very spacious  ->  positive\n",
      "Roof terrace great  ->  positive\n",
      "No tea or coffee making facilities in the rooms  ->  positive\n",
      "the room had aircon and we had earplugs and slept soundly.  ->  positive\n",
      "Also, when the bright bathroom lights are turned on, it lights up the whole hotel room, shining thru the frosted glass panels.  ->  positive\n",
      "Bathroom was extra small,  ->  positive\n",
      "Wifi connected  ->  negative\n",
      "Windows haven't been cleaned for years (if ever).  ->  positive\n",
      "No wardrobe, no space for luggage, no towel change, walls are not sound proof thus very noisy.  ->  positive\n"
     ]
    }
   ],
   "source": [
    "# Pasul 5 - testare model\n",
    "\n",
    "computedTestIndexes = clustering.fit_predict(testFeatures)\n",
    "computedTestOutputs = [labels[value] for value in computedTestIndexes]\n",
    "for i in range(0, len(testInputs)):\n",
    "    print(testInputs[i], \" -> \", computedTestOutputs[i])"
   ]
  },
  {
   "cell_type": "code",
   "execution_count": 9,
   "id": "6d72221e-27c0-402a-afaa-02b66c9997a4",
   "metadata": {},
   "outputs": [
    {
     "name": "stdout",
     "output_type": "stream",
     "text": [
      "acc:  0.35\n"
     ]
    }
   ],
   "source": [
    "# Pasul 6 - calcul metrici de performanta\n",
    "\n",
    "from sklearn.metrics import accuracy_score\n",
    "\n",
    "# just supposing that we have the true labels\n",
    "print(\"acc: \", accuracy_score(testOutputs, computedTestOutputs))"
   ]
  },
  {
   "cell_type": "code",
   "execution_count": null,
   "id": "b1018e96-2763-42fc-bc3d-7fce57d0ab9c",
   "metadata": {},
   "outputs": [],
   "source": []
  },
  {
   "cell_type": "code",
   "execution_count": 10,
   "id": "2bbe1d0c-e4be-4f64-be43-1cb2b6a3b198",
   "metadata": {},
   "outputs": [],
   "source": [
    "# Pasul 4 - antrenare model de invatare nesupervizata (clustering)\n",
    "\n",
    "# unsupervised classification ( = clustering) of data\n",
    "\n",
    "from sklearn.cluster import SpectralClustering\n",
    "\n",
    "# Perform Agglomerative Hierarchical Clustering\n",
    "spectral_clustering = SpectralClustering(n_clusters=2, affinity='nearest_neighbors', n_neighbors=10)\n",
    "cluster_labels = clustering.fit_predict(trainFeatures)"
   ]
  },
  {
   "cell_type": "code",
   "execution_count": 11,
   "id": "6dc3bd9c-fe09-4f44-9d2c-e7ed30309db5",
   "metadata": {},
   "outputs": [
    {
     "name": "stdout",
     "output_type": "stream",
     "text": [
      "The bed is very comfortable.  ->  positive\n",
      "Very spacious rooms, quiet and very comfortable.  ->  positive\n",
      "Corridors filthy\n",
      "Room filthy\n",
      "Electrical cables in room not safe\n",
      "Whole building smelly\n",
      "Shower repulsive  ->  positive\n",
      "walls seem to have no sound insulation  ->  positive\n",
      "The building was under renovation,  ->  positive\n",
      "no elevator might be a challenge for some people  ->  positive\n",
      "The bed was highly uncomfortable, although the engineer fixed it  ->  positive\n",
      "bed, smell.  ->  positive\n",
      "Detest the glass \"door\" if shower/tub .. with?  ->  positive\n",
      "this was expected, clean towels and room cleaned every day.  ->  positive\n",
      "More plug outlets with surge protectors.  ->  positive\n",
      "Room was very spacious  ->  positive\n",
      "Roof terrace great  ->  positive\n",
      "No tea or coffee making facilities in the rooms  ->  positive\n",
      "the room had aircon and we had earplugs and slept soundly.  ->  positive\n",
      "Also, when the bright bathroom lights are turned on, it lights up the whole hotel room, shining thru the frosted glass panels.  ->  positive\n",
      "Bathroom was extra small,  ->  positive\n",
      "Wifi connected  ->  negative\n",
      "Windows haven't been cleaned for years (if ever).  ->  positive\n",
      "No wardrobe, no space for luggage, no towel change, walls are not sound proof thus very noisy.  ->  positive\n"
     ]
    }
   ],
   "source": [
    "# Pasul 5 - testare model\n",
    "\n",
    "computedTestIndexes = clustering.fit_predict(testFeatures)\n",
    "computedTestOutputs = [labels[value] for value in computedTestIndexes]\n",
    "for i in range(0, len(testInputs)):\n",
    "    print(testInputs[i], \" -> \", computedTestOutputs[i])"
   ]
  },
  {
   "cell_type": "code",
   "execution_count": 14,
   "id": "3380e545-78e6-46b7-9fed-8de9d5495f91",
   "metadata": {},
   "outputs": [
    {
     "name": "stdout",
     "output_type": "stream",
     "text": [
      "acc:  0.65\n"
     ]
    }
   ],
   "source": [
    "# Pasul 6 - calcul metrici de performanta\n",
    "\n",
    "from sklearn.metrics import accuracy_score\n",
    "\n",
    "# just supposing that we have the true labels\n",
    "print(\"acc: \", accuracy_score(testOutputs, computedTestOutputs))"
   ]
  },
  {
   "cell_type": "code",
   "execution_count": null,
   "id": "f2feafdf-8117-426b-a834-564ab0fb849f",
   "metadata": {},
   "outputs": [],
   "source": []
  }
 ],
 "metadata": {
  "kernelspec": {
   "display_name": "Python 3 (ipykernel)",
   "language": "python",
   "name": "python3"
  },
  "language_info": {
   "codemirror_mode": {
    "name": "ipython",
    "version": 3
   },
   "file_extension": ".py",
   "mimetype": "text/x-python",
   "name": "python",
   "nbconvert_exporter": "python",
   "pygments_lexer": "ipython3",
   "version": "3.12.0"
  }
 },
 "nbformat": 4,
 "nbformat_minor": 5
}
