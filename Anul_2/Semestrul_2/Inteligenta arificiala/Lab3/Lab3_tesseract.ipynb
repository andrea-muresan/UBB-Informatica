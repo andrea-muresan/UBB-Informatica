{
 "cells": [
  {
   "cell_type": "code",
   "execution_count": 130,
   "id": "59327db4-cf23-4700-aea0-526d1a2006a0",
   "metadata": {},
   "outputs": [],
   "source": [
    "import cv2\n",
    "import pytesseract\n",
    "import pandas as pd\n",
    "import os\n",
    "import fastwer\n",
    "import Levenshtein\n",
    "import numpy as np\n",
    "from PIL import Image\n",
    "import tempfile\n",
    "\n",
    "pytesseract.pytesseract.tesseract_cmd = r'C:\\Program Files\\Tesseract-OCR\\tesseract.exe'"
   ]
  },
  {
   "cell_type": "code",
   "execution_count": 131,
   "id": "321e9b31-0e12-499b-9ecb-7d9025113955",
   "metadata": {},
   "outputs": [],
   "source": [
    "df_output = pd.DataFrame(columns = ['img_filename', 'ocr_output'])"
   ]
  },
  {
   "cell_type": "code",
   "execution_count": 132,
   "id": "2ad5b44e-f593-42aa-b393-e631ef45eefa",
   "metadata": {},
   "outputs": [],
   "source": [
    "def image_v1(df_output):    \n",
    "    for img in os.listdir('images'):\n",
    "        im = cv2.imread(f'./images/{img}')\n",
    "        custom_config = ''\n",
    "        if img == 'test1.png':\n",
    "            custom_config = '--oem 3 --psm 6 -l ron -c tessedit_char_whitelist=abcdefghijklmnopqrstuvwxyzABCDEFGHIJKLMNOPQRSTUVWXYZ'\n",
    "        else:\n",
    "            custom_config = '--oem 1 --psm 4 -l ron -c tessedit_char_whitelist=abcdefghijklmnopqrstuvwxyzABCDEFGHIJKLMNOPQRSTUVWXYZ'\n",
    "        \n",
    "        output = pytesseract.image_to_string(im, config=custom_config)\n",
    "        \n",
    "        # print(output)\n",
    "        dictionary = {'img_filename': img, 'ocr_output': str(output)}\n",
    "        df_output = pd.concat([df_output, pd.DataFrame([dictionary])], ignore_index=True)\n",
    "\n",
    "        # Inlocuiest '\\n' cu ' '\n",
    "        df_output['ocr_output'] = df_output['ocr_output'].apply(lambda x: x.replace('\\n',' '))\n",
    "\n",
    "    # Adauga raspunsurile corecte\n",
    "    df_output.loc[df_output['img_filename'] == 'test1.png', 'gtruth'] = \"Google Cloud Platform\"\n",
    "    df_output.loc[df_output['img_filename'] == 'test2.jpeg', 'gtruth'] = \"Succes in rezolvarea tEMELOR la LABORAtoarele de Inteligenta Artificiala!\"\n",
    "    return df_output\n",
    "\n",
    "    \n",
    "    # img = cv2.imread(f'./images/{img_name}')\n",
    "    # \n",
    "    # text = str(pytesseract.image_to_string(img_rgb, config=conf_set))\n",
    "    # print(text)"
   ]
  },
  {
   "cell_type": "code",
   "execution_count": 133,
   "id": "0ddc3e53-a39d-44a6-b11f-36c52555efda",
   "metadata": {},
   "outputs": [],
   "source": [
    "def cer_levenshtein(ocr_output, gtruth):\n",
    "    # Distanta Levenshtein\n",
    "    distance = Levenshtein.distance(gtruth, ocr_output)\n",
    "\n",
    "    # Character Error Rate (CER):\n",
    "    cer = distance / len(gtruth)\n",
    "    return cer"
   ]
  },
  {
   "cell_type": "code",
   "execution_count": 134,
   "id": "d7908613-f632-4a15-ab5d-6c870c3fb449",
   "metadata": {},
   "outputs": [],
   "source": [
    "def wer_levenshtein(ocr_output, gtruth):\n",
    "    # Obtine cuvintele\n",
    "    gtruth_tokens = gtruth.split()\n",
    "    ocr_output_tokens = ocr_output.split()\n",
    "\n",
    "    # Distanta Levenshtein\n",
    "    distance = Levenshtein.distance(gtruth_tokens, ocr_output_tokens)\n",
    "\n",
    "    # Word Error Rate (WER)\n",
    "    wer = distance / len(gtruth_tokens)\n",
    "    return wer"
   ]
  },
  {
   "cell_type": "code",
   "execution_count": 135,
   "id": "dcdeace0-7e83-4420-ab77-7827fa5dbed6",
   "metadata": {},
   "outputs": [],
   "source": [
    "def cer_jaccard(ocr_output, gtruth):\n",
    "    set_output = set(ocr_output)\n",
    "    set_gtruth = set(gtruth)\n",
    "    intersection = len(set_output.intersection(set_gtruth))\n",
    "    union = len(set_output.union(set_gtruth))\n",
    "    cer = 1 - intersection / union\n",
    "    return cer"
   ]
  },
  {
   "cell_type": "code",
   "execution_count": 136,
   "id": "f364dcab-fd4d-4606-bf51-ad2bc6814f7f",
   "metadata": {},
   "outputs": [],
   "source": [
    "def wer_jaccard(ocr_output, gtruth):\n",
    "    set_output = set(ocr_output.split())\n",
    "    set_gtruth = set(gtruth.split())\n",
    "    intersection = len(set_output.intersection(set_gtruth))\n",
    "    union = len(set_output.union(set_gtruth))\n",
    "    wer = 1 - intersection / union\n",
    "    return wer"
   ]
  },
  {
   "cell_type": "code",
   "execution_count": 137,
   "id": "902bbb1f-82bb-4fc9-9fe9-1f38a6be23d8",
   "metadata": {},
   "outputs": [],
   "source": [
    "def cer_wer(df_output):\n",
    "    for index, row in df_output.iterrows():\n",
    "        filename = row['img_filename']\n",
    "        gtruth = row['gtruth']\n",
    "        output = row['ocr_output']\n",
    "        cer_lev = cer_levenshtein(output, gtruth)\n",
    "        wer_lev = wer_levenshtein(output, gtruth)\n",
    "        # cer = fastwer.score_sent(output, ref, char_level=True)\n",
    "        # wer = fastwer.score_sent(output, ref, char_level=False)\n",
    "        df_output.loc[df_output['img_filename'] == filename, 'cer_lev'] = round(cer_lev,2) \n",
    "        df_output.loc[df_output['img_filename'] == filename, 'wer_lev'] = round(wer_lev,2)\n",
    "\n",
    "        cer_jac = cer_jaccard(output, gtruth)\n",
    "        wer_jac = wer_jaccard(output, gtruth)\n",
    "        df_output.loc[df_output['img_filename'] == filename, 'cer_jaccard'] = round(cer_jac,2) \n",
    "        df_output.loc[df_output['img_filename'] == filename, 'wer_jaccard'] = round(wer_jac,2)\n",
    "\n",
    "    return df_output"
   ]
  },
  {
   "cell_type": "code",
   "execution_count": 138,
   "id": "ef88551a-a899-4329-b9b7-7221962729df",
   "metadata": {},
   "outputs": [
    {
     "data": {
      "text/html": [
       "<div>\n",
       "<style scoped>\n",
       "    .dataframe tbody tr th:only-of-type {\n",
       "        vertical-align: middle;\n",
       "    }\n",
       "\n",
       "    .dataframe tbody tr th {\n",
       "        vertical-align: top;\n",
       "    }\n",
       "\n",
       "    .dataframe thead th {\n",
       "        text-align: right;\n",
       "    }\n",
       "</style>\n",
       "<table border=\"1\" class=\"dataframe\">\n",
       "  <thead>\n",
       "    <tr style=\"text-align: right;\">\n",
       "      <th></th>\n",
       "      <th>img_filename</th>\n",
       "      <th>ocr_output</th>\n",
       "      <th>gtruth</th>\n",
       "      <th>cer_lev</th>\n",
       "      <th>wer_lev</th>\n",
       "      <th>cer_jaccard</th>\n",
       "      <th>wer_jaccard</th>\n",
       "    </tr>\n",
       "  </thead>\n",
       "  <tbody>\n",
       "    <tr>\n",
       "      <th>0</th>\n",
       "      <td>test1.png</td>\n",
       "      <td>I AW l rgmtolv loud I Of VIIII</td>\n",
       "      <td>Google Cloud Platform</td>\n",
       "      <td>1.14</td>\n",
       "      <td>2.67</td>\n",
       "      <td>0.52</td>\n",
       "      <td>1.0</td>\n",
       "    </tr>\n",
       "    <tr>\n",
       "      <th>1</th>\n",
       "      <td>test2.jpeg</td>\n",
       "      <td>ncca b Aesotvatza MELO  LAEORA A E</td>\n",
       "      <td>Succes in rezolvarea tEMELOR la LABORAtoarele ...</td>\n",
       "      <td>0.67</td>\n",
       "      <td>1.00</td>\n",
       "      <td>0.43</td>\n",
       "      <td>1.0</td>\n",
       "    </tr>\n",
       "  </tbody>\n",
       "</table>\n",
       "</div>"
      ],
      "text/plain": [
       "  img_filename                            ocr_output  \\\n",
       "0    test1.png       I AW l rgmtolv loud I Of VIIII    \n",
       "1   test2.jpeg  ncca b Aesotvatza MELO  LAEORA A E     \n",
       "\n",
       "                                              gtruth  cer_lev  wer_lev  \\\n",
       "0                              Google Cloud Platform     1.14     2.67   \n",
       "1  Succes in rezolvarea tEMELOR la LABORAtoarele ...     0.67     1.00   \n",
       "\n",
       "   cer_jaccard  wer_jaccard  \n",
       "0         0.52          1.0  \n",
       "1         0.43          1.0  "
      ]
     },
     "execution_count": 138,
     "metadata": {},
     "output_type": "execute_result"
    }
   ],
   "source": [
    "cer_wer(image_v1(df_output))"
   ]
  },
  {
   "cell_type": "code",
   "execution_count": 139,
   "id": "6e1c7d87-8fa9-4cff-b4e2-5040c0ac04cb",
   "metadata": {},
   "outputs": [],
   "source": [
    "def location(image, custom_config):    \n",
    "    boxes = pytesseract.image_to_boxes(image, config=custom_config)\n",
    "\n",
    "    for box in boxes.splitlines():\n",
    "        box = box.split()\n",
    "        x, y, w, h = map(int, box[1:5])\n",
    "        cv2.rectangle(image, (x, image.shape[0] - y), (w, image.shape[0] - h), (0, 255, 0), 2)\n",
    "    \n",
    "    cv2.imshow('Bounding Boxes', image)\n",
    "    cv2.waitKey(0)\n",
    "    cv2.destroyAllWindows()"
   ]
  },
  {
   "cell_type": "code",
   "execution_count": 140,
   "id": "ac4d0c6f-367d-494e-93b0-628041f0a2b7",
   "metadata": {},
   "outputs": [],
   "source": [
    "for img in os.listdir('images'):\n",
    "    image = cv2.imread(f'./images/{img}')\n",
    "    custom_config = ''\n",
    "    if img == 'test1.png':\n",
    "        custom_config = '--oem 3 --psm 6 -l ron -c tessedit_char_whitelist=abcdefghijklmnopqrstuvwxyzABCDEFGHIJKLMNOPQRSTUVWXYZ'\n",
    "    else:\n",
    "        custom_config = '--oem 1 --psm 4 -l ron -c tessedit_char_whitelist=abcdefghijklmnopqrstuvwxyzABCDEFGHIJKLMNOPQRSTUVWXYZ'\n",
    "    location(image, custom_config)"
   ]
  },
  {
   "cell_type": "code",
   "execution_count": 141,
   "id": "0f2729d2-dbdb-4e23-834e-49f108692325",
   "metadata": {},
   "outputs": [],
   "source": [
    "IMAGE_SIZE = 1800\n",
    "BINARY_THREHOLD = 180"
   ]
  },
  {
   "cell_type": "code",
   "execution_count": 142,
   "id": "fbdc1f56-a9ee-438e-9061-39360479d7e1",
   "metadata": {},
   "outputs": [],
   "source": [
    "def set_image_dpi(file_path):\n",
    "    im = Image.open(file_path)\n",
    "    length_x, width_y = im.size\n",
    "    factor = max(1, int(IMAGE_SIZE / length_x))\n",
    "    size = factor * length_x, factor * width_y\n",
    "    # size = (1800, 1800)\n",
    "    im_resized = im.resize(size, Image.LANCZOS)\n",
    "    temp_file = tempfile.NamedTemporaryFile(delete=False, suffix='.jpg')\n",
    "    temp_filename = temp_file.name\n",
    "    im_resized.save(temp_filename, dpi=(300, 300))\n",
    "    return temp_filename"
   ]
  },
  {
   "cell_type": "code",
   "execution_count": 143,
   "id": "19a2067c-8ecf-42e7-a030-5106a6e3750d",
   "metadata": {},
   "outputs": [],
   "source": [
    "def image_smoothening(img):\n",
    "    ret1, th1 = cv2.threshold(img, BINARY_THREHOLD, 255, cv2.THRESH_BINARY)\n",
    "    ret2, th2 = cv2.threshold(th1, 0, 255, cv2.THRESH_BINARY + cv2.THRESH_OTSU)\n",
    "    blur = cv2.GaussianBlur(th2, (1, 1), 0)\n",
    "    ret3, th3 = cv2.threshold(blur, 0, 255, cv2.THRESH_BINARY + cv2.THRESH_OTSU)\n",
    "    return th3\n",
    "\n",
    "def remove_noise_and_smooth(file_name):\n",
    "    img = cv2.imread(file_name, 0)\n",
    "    filtered = cv2.adaptiveThreshold(img.astype(np.uint8), 255, cv2.ADAPTIVE_THRESH_MEAN_C, cv2.THRESH_BINARY, 41,\n",
    "                                     3)\n",
    "    kernel = np.ones((1, 1), np.uint8)\n",
    "    opening = cv2.morphologyEx(filtered, cv2.MORPH_OPEN, kernel)\n",
    "    closing = cv2.morphologyEx(opening, cv2.MORPH_CLOSE, kernel)\n",
    "    img = image_smoothening(img)\n",
    "    or_image = cv2.bitwise_or(img, closing)\n",
    "    return or_image"
   ]
  },
  {
   "cell_type": "code",
   "execution_count": 144,
   "id": "13e61b89-2ba9-44f4-afbe-3c17ca4c4389",
   "metadata": {},
   "outputs": [],
   "source": [
    "def process_image_for_ocr(file_path):\n",
    "    # TODO : Implement using opencv\n",
    "    temp_filename = set_image_dpi(file_path)\n",
    "    im_new = remove_noise_and_smooth(temp_filename)\n",
    "    return im_new\n",
    "    # return temp_filename"
   ]
  },
  {
   "cell_type": "code",
   "execution_count": 145,
   "id": "6ea0182d-460a-4faf-af5d-0b81387fac92",
   "metadata": {},
   "outputs": [],
   "source": [
    "def image_v2(df_output):    \n",
    "    for im in os.listdir('images'):\n",
    "        # img = cv2.imread(process_image_for_ocr(f'./images/{im}'))\n",
    "        img = process_image_for_ocr(f'./images/{im}')\n",
    "\n",
    "        custom_config = \"\"\n",
    "        if im == 'test1.png':\n",
    "            custom_config = '--oem 3 --psm 6 -l ron -c tessedit_char_whitelist=abcdefghijklmnopqrstuvwxyzABCDEFGHIJKLMNOPQRSTUVWXYZ'\n",
    "        else:\n",
    "            custom_config = '--oem 1 --psm 4 -l ron -c tessedit_char_whitelist=abcdefghijklmnopqrstuvwxyzABCDEFGHIJKLMNOPQRSTUVWXYZ'\n",
    "            \n",
    "        pil_image = Image.fromarray(img)\n",
    "        pil_image.show()\n",
    "        location(image, custom_config)\n",
    "        \n",
    "        output = pytesseract.image_to_string(img, config=custom_config)\n",
    "        \n",
    "        # print(output)\n",
    "        dictionary = {'img_filename': im, 'ocr_output': str(output)}\n",
    "        df_output = pd.concat([df_output, pd.DataFrame([dictionary])], ignore_index=True)\n",
    "\n",
    "        # Inlocuiest '\\n' cu ' '\n",
    "        df_output['ocr_output'] = df_output['ocr_output'].apply(lambda x: x.replace('\\n',' '))\n",
    "\n",
    "    # Adauga raspunsurile corecte\n",
    "    df_output.loc[df_output['img_filename'] == 'test1.png', 'gtruth'] = \"Google Cloud Platform\"\n",
    "    df_output.loc[df_output['img_filename'] == 'test2.jpeg', 'gtruth'] = \"Succes in rezolvarea tEMELOR la LABORAtoaree de Inteligenta Artificiala!\"\n",
    "    return df_output"
   ]
  },
  {
   "cell_type": "code",
   "execution_count": null,
   "id": "87b7a25c-5f0d-4a63-bffb-bfd6296a33d7",
   "metadata": {},
   "outputs": [],
   "source": [
    "cer_wer(image_v2(df_output))"
   ]
  },
  {
   "cell_type": "code",
   "execution_count": 126,
   "id": "ebff6bab-f5d6-4a7f-ab12-2ab0126bd295",
   "metadata": {},
   "outputs": [],
   "source": [
    "for img in os.listdir('images'):\n",
    "    image = process_image_for_ocr(f'./images/{img}')\n",
    "    \n",
    "    custom_config = ''\n",
    "    if img == 'test1.png':\n",
    "        custom_config = '--oem 3 --psm 6 -l ron -c tessedit_char_whitelist=abcdefghijklmnopqrstuvwxyzABCDEFGHIJKLMNOPQRSTUVWXYZ'\n",
    "    else:\n",
    "        custom_config = '--oem 1 --psm 4 -l ron -c tessedit_char_whitelist=abcdefghijklmnopqrstuvwxyzABCDEFGHIJKLMNOPQRSTUVWXYZ'\n",
    "    location(image, custom_config)"
   ]
  },
  {
   "cell_type": "code",
   "execution_count": 127,
   "id": "59a5c166-86e0-4f1b-b640-04af2ae6e31b",
   "metadata": {},
   "outputs": [],
   "source": [
    "def bb_intersection_over_union(boxA, boxB):\n",
    "\txA = max(boxA[0], boxB[0])\n",
    "\tyA = max(boxA[1], boxB[1])\n",
    "\txB = min(boxA[2], boxB[2])\n",
    "\tyB = min(boxA[3], boxB[3])\n",
    "\n",
    "\tinterArea = max(0, xB - xA + 1) * max(0, yB - yA + 1)\n",
    "\t\n",
    "\tboxAArea = (boxA[2] - boxA[0] + 1) * (boxA[3] - boxA[1] + 1)\n",
    "\tboxBArea = (boxB[2] - boxB[0] + 1) * (boxB[3] - boxB[1] + 1)\n",
    "\t\n",
    "\tiou = interArea / float(boxAArea + boxBArea - interArea)\n",
    "    \n",
    "\treturn iou"
   ]
  },
  {
   "cell_type": "code",
   "execution_count": 129,
   "id": "a2b3d87d-b10b-46aa-8416-2e08d19b8ecc",
   "metadata": {},
   "outputs": [
    {
     "name": "stdout",
     "output_type": "stream",
     "text": [
      "0.625\n"
     ]
    }
   ],
   "source": [
    "def location_quality(image, custom_config):    \n",
    "    boxes = pytesseract.image_to_boxes(image, config=custom_config)\n",
    "\n",
    "    i = 0\n",
    "    s = 0\n",
    "    for box in boxes.splitlines():\n",
    "        i += 1\n",
    "        if i < 9:\n",
    "            box = box.split()\n",
    "            s = 5\n",
    "            x, y, w, h = map(int, box[1:5])\n",
    "            cv2.rectangle(image, (x, image.shape[0] - y), (w, image.shape[0] - h), (0, 255, 0), 2)\n",
    "            if i == 6:\n",
    "                cv2.rectangle(image, (700, 340), (770, 430), (255, 0, 0), 2)\n",
    "                s += bb_intersection_over_union([x, image.shape[0] - y, w, image.shape[0] - h], [700, 340, 770, 430])\n",
    "            if i == 7:\n",
    "                cv2.rectangle(image, (770, 370), (820, 420), (255, 0, 0), 2)\n",
    "                s += bb_intersection_over_union([x, image.shape[0] - y, w, image.shape[0] - h], [770, 370, 820, 420])\n",
    "            if i == 8:\n",
    "                cv2.rectangle(image, (835, 320), (1300, 425), (255, 0, 0), 2)\n",
    "                s += bb_intersection_over_union([x, image.shape[0] - y, w, image.shape[0] - h], [835, 320, 1300, 425])\n",
    "                \n",
    "    print(s/8)\n",
    "    cv2.imshow('Bounding Boxes', image)\n",
    "    cv2.waitKey(0)\n",
    "    cv2.destroyAllWindows()\n",
    "\n",
    "custom_config = '--oem 3 --psm 6 -l ron -c tessedit_char_whitelist=abcdefghijklmnopqrstuvwxyzABCDEFGHIJKLMNOPQRSTUVWXYZ'\n",
    "image = cv2.imread('images/test2.jpeg')\n",
    "location_quality(image, custom_config)"
   ]
  },
  {
   "cell_type": "code",
   "execution_count": null,
   "id": "18bc0cc8-d9ba-4312-b217-8e82c29926ba",
   "metadata": {},
   "outputs": [],
   "source": []
  },
  {
   "cell_type": "code",
   "execution_count": null,
   "id": "0785c666-409b-4e8b-a4b9-ed73b3922390",
   "metadata": {},
   "outputs": [],
   "source": []
  }
 ],
 "metadata": {
  "kernelspec": {
   "display_name": "Python 3 (ipykernel)",
   "language": "python",
   "name": "python3"
  },
  "language_info": {
   "codemirror_mode": {
    "name": "ipython",
    "version": 3
   },
   "file_extension": ".py",
   "mimetype": "text/x-python",
   "name": "python",
   "nbconvert_exporter": "python",
   "pygments_lexer": "ipython3",
   "version": "3.12.0"
  }
 },
 "nbformat": 4,
 "nbformat_minor": 5
}
